{
 "cells": [
  {
   "cell_type": "code",
   "execution_count": 1,
   "metadata": {},
   "outputs": [],
   "source": [
    "import torch\n",
    "import torch.nn as nn\n",
    "import torch.nn.functional as F\n",
    "import torch.optim as optim\n",
    "from torch.utils.data import Dataset, DataLoader\n",
    "from tqdm import tqdm\n",
    "import pickle\n",
    "import pandas as pd\n",
    "from torch.utils.data import DataLoader, random_split\n",
    "import requests\n",
    "import matplotlib.pyplot as plt"
   ]
  },
  {
   "cell_type": "code",
   "execution_count": 2,
   "metadata": {},
   "outputs": [],
   "source": [
    "prediction_distance = 1\n",
    "slice_size = 150\n",
    "forward_exit_threshold = 50"
   ]
  },
  {
   "cell_type": "code",
   "execution_count": 3,
   "metadata": {},
   "outputs": [
    {
     "data": {
      "text/plain": [
       "Net(\n",
       "  (fc1): Linear(in_features=150, out_features=64, bias=True)\n",
       "  (fc2): Linear(in_features=64, out_features=64, bias=True)\n",
       "  (fc3): Linear(in_features=64, out_features=64, bias=True)\n",
       "  (fc4): Linear(in_features=64, out_features=64, bias=True)\n",
       "  (fc5): Linear(in_features=64, out_features=64, bias=True)\n",
       "  (fc6): Linear(in_features=64, out_features=64, bias=True)\n",
       "  (fc7): Linear(in_features=64, out_features=64, bias=True)\n",
       "  (fc8): Linear(in_features=64, out_features=64, bias=True)\n",
       "  (fc9): Linear(in_features=64, out_features=64, bias=True)\n",
       "  (fc10): Linear(in_features=64, out_features=64, bias=True)\n",
       "  (fc11): Linear(in_features=64, out_features=64, bias=True)\n",
       "  (fc12): Linear(in_features=64, out_features=64, bias=True)\n",
       "  (fc13): Linear(in_features=64, out_features=3, bias=True)\n",
       ")"
      ]
     },
     "execution_count": 3,
     "metadata": {},
     "output_type": "execute_result"
    }
   ],
   "source": [
    "class Net(nn.Module):\n",
    "    def __init__(self):\n",
    "        super(Net, self).__init__()\n",
    "        self.fc1 = nn.Linear(slice_size, 64)\n",
    "        self.fc2 = nn.Linear(64, 64)\n",
    "        self.fc3 = nn.Linear(64, 64)\n",
    "        self.fc4 = nn.Linear(64, 64)\n",
    "        self.fc5 = nn.Linear(64, 64)\n",
    "        self.fc6 = nn.Linear(64, 64)\n",
    "        self.fc7 = nn.Linear(64, 64)\n",
    "        self.fc8 = nn.Linear(64, 64)\n",
    "        self.fc9 = nn.Linear(64, 64)\n",
    "        self.fc10 = nn.Linear(64, 64)\n",
    "        self.fc11 = nn.Linear(64, 64)\n",
    "        self.fc12 = nn.Linear(64, 64)\n",
    "        self.fc13 = nn.Linear(64, 3)\n",
    "    \n",
    "    def forward(self, x):\n",
    "        x = torch.tanh(self.fc1(x))\n",
    "        x = torch.tanh(self.fc2(x))\n",
    "        x = torch.tanh(self.fc3(x))\n",
    "        x = torch.tanh(self.fc4(x))\n",
    "        x = torch.tanh(self.fc5(x))\n",
    "        x = torch.tanh(self.fc6(x))\n",
    "        x = torch.tanh(self.fc7(x))\n",
    "        x = torch.tanh(self.fc8(x))\n",
    "        x = torch.tanh(self.fc9(x))\n",
    "        x = torch.tanh(self.fc10(x))\n",
    "        x = torch.tanh(self.fc11(x))\n",
    "        x = torch.tanh(self.fc12(x))\n",
    "        x = torch.tanh(self.fc13(x))\n",
    "        return x\n",
    "\n",
    "net = Net()\n",
    "GPU = torch.device(\"cuda\")\n",
    "net.to(GPU)"
   ]
  },
  {
   "cell_type": "code",
   "execution_count": 4,
   "metadata": {},
   "outputs": [],
   "source": [
    "loss = nn.CrossEntropyLoss()\n",
    "optimizer = optim.AdamW(net.parameters(), lr=0.0001)"
   ]
  },
  {
   "cell_type": "code",
   "execution_count": 5,
   "metadata": {},
   "outputs": [],
   "source": [
    "# for everyone reading this:\n",
    "# have a moment of silence to celebrate me getting this code working FIRST TRY!!1!1!11!\n",
    "class Dataset(Dataset):\n",
    "    def __init__(self, csv_path):\n",
    "        self.df = pd.read_csv(csv_path)\n",
    "        self.prices = self.df[\"Close\"]\n",
    "        \n",
    "        self.slices = []\n",
    "        self.predictions = []\n",
    "        \n",
    "        # [1, 0, 0]   --->   up\n",
    "        # [0, 1, 0]   --->   forward\n",
    "        # [0, 0, 1]   --->   down\n",
    "        \n",
    "        for x in tqdm(range(len(self.prices) - (prediction_distance + slice_size))):\n",
    "            self.slice = torch.tensor(self.prices[x : x + slice_size].tolist(), dtype=torch.float32, device=GPU)\n",
    "            self.slices.append(self.slice)\n",
    "            \n",
    "            if abs(self.prices[x + slice_size] - self.prices[x + slice_size + prediction_distance]) >= forward_exit_threshold:\n",
    "                if self.prices[x + slice_size] >= self.prices[x + slice_size + prediction_distance]:\n",
    "                    self.prediction = torch.tensor((0, 0, 1), dtype=torch.float32, device=GPU)\n",
    "                else:\n",
    "                    self.prediction = torch.tensor((1, 0, 0), dtype=torch.float32, device=GPU)\n",
    "            else:\n",
    "                self.prediction = torch.tensor((0, 1, 0), dtype=torch.float32, device=GPU)\n",
    "            \n",
    "            self.predictions.append(self.prediction)\n",
    "\n",
    "    def __len__(self):\n",
    "        return len(self.predictions)\n",
    "        \n",
    "    def __getitem__(self, idx):\n",
    "        return self.slices[idx], self.predictions[idx]"
   ]
  },
  {
   "cell_type": "code",
   "execution_count": 6,
   "metadata": {},
   "outputs": [],
   "source": [
    "def train_nn(question_tensor, answer_tensor, model, loss=loss, optimizer=optimizer):\n",
    "    optimizer.zero_grad()\n",
    "    outputs = model(question_tensor)\n",
    "    loss = loss(outputs, answer_tensor)\n",
    "    loss.backward()\n",
    "    optimizer.step()"
   ]
  },
  {
   "cell_type": "code",
   "execution_count": 7,
   "metadata": {},
   "outputs": [],
   "source": [
    "def scan_market(currency, interval, scan_size):\n",
    "    base_url = r'https://api.coingecko.com/api/v3'\n",
    "    endpoint = f'/coins/{currency}/market_chart?vs_currency=usd&days=1&interval={interval}'\n",
    "    \n",
    "    response = requests.get(base_url + endpoint)\n",
    "    \n",
    "    if response.status_code == 200:\n",
    "        data = response.json()\n",
    "        closing_prices = [data_point[1] for data_point in data[\"prices\"]]\n",
    "        return closing_prices[-scan_size:]\n",
    "    else:\n",
    "        raise Exception(f'Request failed with status code {response.status_code}')"
   ]
  },
  {
   "cell_type": "code",
   "execution_count": 8,
   "metadata": {},
   "outputs": [
    {
     "name": "stderr",
     "output_type": "stream",
     "text": [
      "100%|██████████| 2996/2996 [00:00<00:00, 6421.16it/s]\n"
     ]
    }
   ],
   "source": [
    "train_test_split = 0.8\n",
    "batch_size = 4096\n",
    "\n",
    "dataset = Dataset(r\"C:\\Users\\user\\Desktop\\simulation\\tooki\\NETMEM github repo\\BTC-USD (1).csv\")\n",
    "\n",
    "train_size = int(train_test_split * len(dataset))\n",
    "test_size = len(dataset) - train_size\n",
    "train_dataset, test_dataset = random_split(dataset, [train_size, test_size])\n",
    "\n",
    "train_data_loader = DataLoader(train_dataset, batch_size=batch_size, shuffle=True)\n",
    "test_data_loader = DataLoader(test_dataset, batch_size=1, shuffle=False)"
   ]
  },
  {
   "cell_type": "code",
   "execution_count": 11,
   "metadata": {},
   "outputs": [
    {
     "name": "stderr",
     "output_type": "stream",
     "text": [
      "100%|██████████| 500/500 [00:03<00:00, 134.20it/s]\n"
     ]
    }
   ],
   "source": [
    "#net.train()\n",
    "\n",
    "for y in tqdm(range(500)):\n",
    "    for x in enumerate(train_data_loader):\n",
    "        train_nn(x[1][0], x[1][1], net)"
   ]
  },
  {
   "cell_type": "code",
   "execution_count": 12,
   "metadata": {},
   "outputs": [
    {
     "name": "stderr",
     "output_type": "stream",
     "text": [
      "600it [00:00, 1116.08it/s]"
     ]
    },
    {
     "name": "stdout",
     "output_type": "stream",
     "text": [
      "NET ACC RATE   --->   41.50 %\n",
      "NET ERR RATE   --->   58.50 %\n",
      "RND ACC RATE   --->   33.33 %\n",
      "RND ERR RATE   --->   66.67 %\n"
     ]
    },
    {
     "name": "stderr",
     "output_type": "stream",
     "text": [
      "\n"
     ]
    }
   ],
   "source": [
    "#net.eval()\n",
    "\n",
    "errors = 0\n",
    "\n",
    "for x in tqdm(enumerate(test_data_loader)):\n",
    "    if torch.argmax(net(x[1][0])) != torch.argmax(x[1][1]):\n",
    "        errors += 1\n",
    "\n",
    "print(f\"NET ACC RATE   --->   {100 - 100 * errors / len(test_dataset):.2f} %\")\n",
    "print(f\"NET ERR RATE   --->   {100 * errors / len(test_dataset):.2f} %\")\n",
    "print(f\"RND ACC RATE   --->   {100 - 100 * (3 - 1) / 3:.2f} %\")\n",
    "print(f\"RND ERR RATE   --->   {100 * (3 - 1) / 3:.2f} %\")"
   ]
  },
  {
   "cell_type": "code",
   "execution_count": 11,
   "metadata": {},
   "outputs": [],
   "source": [
    "#import time"
   ]
  },
  {
   "cell_type": "code",
   "execution_count": 12,
   "metadata": {},
   "outputs": [],
   "source": [
    "#with open(r\"C:\\Users\\user\\Desktop\\AUTOENCODER\\log.txt\", \"a+\") as file:\n",
    "#    while True:\n",
    "#        file.write(f\"{time.ctime()}   |   {str(net(torch.tensor(scan_market('bitcoin', '1m', 250), dtype=torch.float32, device=GPU)))}\")\n",
    "#        time.sleep(120)"
   ]
  },
  {
   "cell_type": "code",
   "execution_count": 13,
   "metadata": {},
   "outputs": [
    {
     "name": "stdout",
     "output_type": "stream",
     "text": [
      "tensor([-0.3313,  0.5740, -0.4141], device='cuda:0', grad_fn=<TanhBackward0>)\n"
     ]
    },
    {
     "data": {
      "text/plain": [
       "[<matplotlib.lines.Line2D at 0x196a6674bb0>]"
      ]
     },
     "execution_count": 13,
     "metadata": {},
     "output_type": "execute_result"
    },
    {
     "data": {
      "image/png": "[encoded data removed]",
      "text/plain": [
       "<Figure size 640x480 with 1 Axes>"
      ]
     },
     "metadata": {},
     "output_type": "display_data"
    }
   ],
   "source": [
    "print(net(torch.tensor(scan_market('bitcoin', '1h', slice_size), dtype=torch.float32, device=GPU)))\n",
    "plt.plot(scan_market('bitcoin', '1h', slice_size))"
   ]
  },
  {
   "cell_type": "code",
   "execution_count": null,
   "metadata": {},
   "outputs": [],
   "source": []
  }
 ],
 "metadata": {
  "kernelspec": {
   "display_name": "MAIN_ENV",
   "language": "python",
   "name": "python3"
  },
  "language_info": {
   "codemirror_mode": {
    "name": "ipython",
    "version": 3
   },
   "file_extension": ".py",
   "mimetype": "text/x-python",
   "name": "python",
   "nbconvert_exporter": "python",
   "pygments_lexer": "ipython3",
   "version": "3.9.16"
  },
  "orig_nbformat": 4
 },
 "nbformat": 4,
 "nbformat_minor": 2
}
